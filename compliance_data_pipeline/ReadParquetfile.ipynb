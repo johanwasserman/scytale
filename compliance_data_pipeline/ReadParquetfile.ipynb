{
 "cells": [
  {
   "cell_type": "code",
   "execution_count": 1,
   "metadata": {},
   "outputs": [],
   "source": [
    "import pandas as pd"
   ]
  },
  {
   "cell_type": "code",
   "execution_count": 2,
   "metadata": {},
   "outputs": [],
   "source": [
    "parquet_path = \"data_warehouse/github/pull_requests/scytale/Scytale-exercise\""
   ]
  },
  {
   "cell_type": "code",
   "execution_count": 3,
   "metadata": {},
   "outputs": [],
   "source": [
    "df = pd.read_parquet(parquet_path, engine='pyarrow')"
   ]
  },
  {
   "cell_type": "code",
   "execution_count": 4,
   "metadata": {},
   "outputs": [
    {
     "data": {
      "text/html": [
       "<div>\n",
       "<style scoped>\n",
       "    .dataframe tbody tr th:only-of-type {\n",
       "        vertical-align: middle;\n",
       "    }\n",
       "\n",
       "    .dataframe tbody tr th {\n",
       "        vertical-align: top;\n",
       "    }\n",
       "\n",
       "    .dataframe thead th {\n",
       "        text-align: right;\n",
       "    }\n",
       "</style>\n",
       "<table border=\"1\" class=\"dataframe\">\n",
       "  <thead>\n",
       "    <tr style=\"text-align: right;\">\n",
       "      <th></th>\n",
       "      <th>organization_name</th>\n",
       "      <th>repository_id</th>\n",
       "      <th>repository_name</th>\n",
       "      <th>repository_owner</th>\n",
       "      <th>num_prs</th>\n",
       "      <th>num_prs_merged</th>\n",
       "      <th>merged_at</th>\n",
       "      <th>is_compliant</th>\n",
       "    </tr>\n",
       "  </thead>\n",
       "  <tbody>\n",
       "    <tr>\n",
       "      <th>0</th>\n",
       "      <td>Scytale-exercise</td>\n",
       "      <td>721612130</td>\n",
       "      <td>scytale-repo3</td>\n",
       "      <td>Scytale-exercise</td>\n",
       "      <td>0</td>\n",
       "      <td>0</td>\n",
       "      <td>None</td>\n",
       "      <td>True</td>\n",
       "    </tr>\n",
       "    <tr>\n",
       "      <th>1</th>\n",
       "      <td>Scytale-exercise</td>\n",
       "      <td>724133322</td>\n",
       "      <td>Scytale_repo</td>\n",
       "      <td>Scytale-exercise</td>\n",
       "      <td>1</td>\n",
       "      <td>0</td>\n",
       "      <td>None</td>\n",
       "      <td>False</td>\n",
       "    </tr>\n",
       "    <tr>\n",
       "      <th>2</th>\n",
       "      <td>Scytale-exercise</td>\n",
       "      <td>724140378</td>\n",
       "      <td>scytale-repo2</td>\n",
       "      <td>Scytale-exercise</td>\n",
       "      <td>0</td>\n",
       "      <td>0</td>\n",
       "      <td>None</td>\n",
       "      <td>True</td>\n",
       "    </tr>\n",
       "    <tr>\n",
       "      <th>3</th>\n",
       "      <td>Scytale-exercise</td>\n",
       "      <td>724198619</td>\n",
       "      <td>SCytale-repo4</td>\n",
       "      <td>Scytale-exercise</td>\n",
       "      <td>0</td>\n",
       "      <td>0</td>\n",
       "      <td>None</td>\n",
       "      <td>True</td>\n",
       "    </tr>\n",
       "  </tbody>\n",
       "</table>\n",
       "</div>"
      ],
      "text/plain": [
       "  organization_name  repository_id repository_name  repository_owner  num_prs  \\\n",
       "0  Scytale-exercise      721612130   scytale-repo3  Scytale-exercise        0   \n",
       "1  Scytale-exercise      724133322    Scytale_repo  Scytale-exercise        1   \n",
       "2  Scytale-exercise      724140378   scytale-repo2  Scytale-exercise        0   \n",
       "3  Scytale-exercise      724198619   SCytale-repo4  Scytale-exercise        0   \n",
       "\n",
       "   num_prs_merged merged_at  is_compliant  \n",
       "0               0      None          True  \n",
       "1               0      None         False  \n",
       "2               0      None          True  \n",
       "3               0      None          True  "
      ]
     },
     "execution_count": 4,
     "metadata": {},
     "output_type": "execute_result"
    }
   ],
   "source": [
    "df"
   ]
  }
 ],
 "metadata": {
  "kernelspec": {
   "display_name": "pyspark",
   "language": "python",
   "name": "python3"
  },
  "language_info": {
   "codemirror_mode": {
    "name": "ipython",
    "version": 3
   },
   "file_extension": ".py",
   "mimetype": "text/x-python",
   "name": "python",
   "nbconvert_exporter": "python",
   "pygments_lexer": "ipython3",
   "version": "3.11.8"
  }
 },
 "nbformat": 4,
 "nbformat_minor": 2
}
